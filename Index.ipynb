{
 "cells": [
  {
   "cell_type": "markdown",
   "metadata": {},
   "source": [
    "# ASTRC3101: Modern Stellar Astrophysics\n",
    "## Instructor: Marcel Agüeros\n",
    "### Fall 2014"
   ]
  },
  {
   "cell_type": "markdown",
   "metadata": {},
   "source": [
    "### STATSTAR Notebooks\n",
    "- [Homework 2: Basic Stellar Models](HW2/StatstarHW2.ipynb)\n",
    "- [Homework 3: Main Sequence Mass-Luminosity Relation](HW3/StatstarHW3.ipynb)\n",
    "- [Homework 4: Opacity, Convection, and Radiation](HW4/StatstarHW4.ipynb)\n"
   ]
  }
 ],
 "metadata": {
  "kernelspec": {
   "display_name": "Python 2",
   "language": "python",
   "name": "python2"
  },
  "language_info": {
   "codemirror_mode": {
    "name": "ipython",
    "version": 2
   },
   "file_extension": ".py",
   "mimetype": "text/x-python",
   "name": "python",
   "nbconvert_exporter": "python",
   "pygments_lexer": "ipython2",
   "version": "2.7.10"
  }
 },
 "nbformat": 4,
 "nbformat_minor": 0
}
